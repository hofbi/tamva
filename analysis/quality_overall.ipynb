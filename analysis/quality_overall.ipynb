{
 "cells": [
  {
   "cell_type": "code",
   "execution_count": null,
   "metadata": {},
   "outputs": [],
   "source": [
    "%load_ext autoreload"
   ]
  },
  {
   "cell_type": "code",
   "execution_count": null,
   "metadata": {},
   "outputs": [],
   "source": [
    "%autoreload 2\n",
    "\n",
    "from subprocess import check_call, check_output\n",
    "from pathlib import Path\n",
    "import json\n",
    "import sys\n",
    "import re\n",
    "import pandas as pd\n",
    "import numpy as np"
   ]
  },
  {
   "cell_type": "code",
   "execution_count": null,
   "metadata": {},
   "outputs": [],
   "source": [
    "BASE_PATH = Path(\"Set before using\")\n",
    "\n",
    "LEFT = BASE_PATH / \"6-hd-left\"\n",
    "RIGHT = BASE_PATH / \"6-hd-right\"\n",
    "STRAIGHT = BASE_PATH / \"6-hd-straight\"\n",
    "\n",
    "TOTAL_BITRATE = 6000"
   ]
  },
  {
   "cell_type": "code",
   "execution_count": null,
   "metadata": {},
   "outputs": [],
   "source": [
    "def call(command) -> int:\n",
    "    \"\"\"Call a subprocess in the shell and return code\"\"\"\n",
    "    return check_call(command, shell=True)\n",
    "\n",
    "\n",
    "def call_output(command) -> str:\n",
    "    \"\"\"Call a subprocess in the shell and return output\"\"\"\n",
    "    return check_output(command, shell=True).decode(sys.stdout.encoding).strip()\n",
    "\n",
    "\n",
    "def parse_metric_score(content: str, metric: str) -> float:\n",
    "    \"\"\"Parse the metric score from console output\"\"\"\n",
    "    metric_patterns = {\"ssim\": r\"All:(\\d*\\.\\d*)\", \"psnr\": r\"average:(\\d*\\.\\d*)\"}\n",
    "    score = re.search(metric_patterns[metric], content, re.DOTALL)\n",
    "    return float(score.group(1)) if score else 0.0\n",
    "\n",
    "\n",
    "def process(file: Path, bitrate: float, key: str, prio: float):\n",
    "    mp4_file = file.with_suffix(\".mp4\")\n",
    "    call(\n",
    "        f\"gst-launch-1.0 filesrc location={file} ! videoparse width=1920 height=1080 framerate=20/1 format=2 ! autovideoconvert ! \"\n",
    "        f\"x264enc tune=zerolatency speed-preset=ultrafast bitrate={int(bitrate)} sliced-threads=true byte-stream=true threads=1 key-int-max=15 intra-refresh=true ! \"\n",
    "        f\"mp4mux ! filesink location={mp4_file}\"\n",
    "    )\n",
    "    output = call_output(\n",
    "        \"ffmpeg -hide_banner\"\n",
    "        f\" -s:v 1920x1080 -r 20 -pix_fmt yuv420p\"\n",
    "        f\" -i {file} -i {mp4_file}\"\n",
    "        f' -lavfi \"[0:v]scale=1920x1080[main];[main][1:v]ssim;'\n",
    "        f'[0:v]scale=1920x1080[main];[main][1:v]psnr\" -f null - 2>&1'\n",
    "    )\n",
    "    distorted_yuv = file.with_name(file.stem + \"_dist\" + file.suffix)\n",
    "    call(f\"ffmpeg -y -i {mp4_file} {distorted_yuv}\")\n",
    "    vmaf_json = call_output(\n",
    "        f\"docker run --rm -v {file.parent}:/files vmaf:latest yuv420p 1920 1080\"\n",
    "        f\" /files/{file.name} /files/{distorted_yuv.name} --out-fmt json\"\n",
    "    )\n",
    "    call(f\"rm {mp4_file} {distorted_yuv}\")\n",
    "    return {\n",
    "        \"key\": key,\n",
    "        \"prio\": prio,\n",
    "        \"psnr\": parse_metric_score(output, \"psnr\"),\n",
    "        \"ssim\": parse_metric_score(output, \"ssim\"),\n",
    "        \"vmaf\": json.loads(vmaf_json)[\"aggregate\"][\"VMAF_score\"],\n",
    "    }"
   ]
  },
  {
   "cell_type": "code",
   "execution_count": null,
   "metadata": {},
   "outputs": [],
   "source": [
    "df_uniform = pd.DataFrame(\n",
    "    [\n",
    "        process(RIGHT / \"front_1080p.yuv\", TOTAL_BITRATE / 6, \"uniform-right-f\", 9.25),\n",
    "        process(RIGHT / \"front_left_1080p.yuv\", TOTAL_BITRATE / 6, \"uniform-right-fl\", 5.75),\n",
    "        process(RIGHT / \"front_right_1080p.yuv\", TOTAL_BITRATE / 6, \"uniform-right-fr\", 9.5),\n",
    "        process(RIGHT / \"rear_1080p.yuv\", TOTAL_BITRATE / 6, \"uniform-right-r\", 4.75),\n",
    "        process(RIGHT / \"rear_left_1080p.yuv\", TOTAL_BITRATE / 6, \"uniform-right-rl\", 4.63),\n",
    "        process(RIGHT / \"rear_right_1080p.yuv\", TOTAL_BITRATE / 6, \"uniform-right-rr\", 5.38),\n",
    "        process(LEFT / \"front_1080p.yuv\", TOTAL_BITRATE / 6, \"uniform-left-f\", 9.25),\n",
    "        process(LEFT / \"front_left_1080p.yuv\", TOTAL_BITRATE / 6, \"uniform-left-fl\", 9.38),\n",
    "        process(LEFT / \"front_right_1080p.yuv\", TOTAL_BITRATE / 6, \"uniform-left-fr\", 6.13),\n",
    "        process(LEFT / \"rear_1080p.yuv\", TOTAL_BITRATE / 6, \"uniform-left-r\", 4.75),\n",
    "        process(LEFT / \"rear_left_1080p.yuv\", TOTAL_BITRATE / 6, \"uniform-left-rl\", 5.38),\n",
    "        process(LEFT / \"rear_right_1080p.yuv\", TOTAL_BITRATE / 6, \"uniform-left-rr\", 4.88),\n",
    "        process(STRAIGHT / \"front_1080p.yuv\", TOTAL_BITRATE / 6, \"uniform-straight-f\", 10.0),\n",
    "        process(STRAIGHT / \"front_left_1080p.yuv\", TOTAL_BITRATE / 6, \"uniform-straight-fl\", 6.88),\n",
    "        process(STRAIGHT / \"front_right_1080p.yuv\", TOTAL_BITRATE / 6, \"uniform-straight-fr\", 7.50),\n",
    "        process(STRAIGHT / \"rear_1080p.yuv\", TOTAL_BITRATE / 6, \"uniform-straight-r\", 5.00),\n",
    "        process(STRAIGHT / \"rear_left_1080p.yuv\", TOTAL_BITRATE / 6, \"uniform-straight-rl\", 4.88),\n",
    "        process(STRAIGHT / \"rear_right_1080p.yuv\", TOTAL_BITRATE / 6, \"uniform-straight-rr\", 4.38),\n",
    "    ]\n",
    ")"
   ]
  },
  {
   "cell_type": "code",
   "execution_count": null,
   "metadata": {},
   "outputs": [],
   "source": [
    "df_prio = pd.DataFrame(\n",
    "    [\n",
    "        process(RIGHT / \"front_1080p.yuv\", TOTAL_BITRATE * 0.31, \"prio-right-f\", 9.25),\n",
    "        process(RIGHT / \"front_left_1080p.yuv\", TOTAL_BITRATE * 0.155, \"prio-right-fl\", 5.75),\n",
    "        process(RIGHT / \"front_right_1080p.yuv\", TOTAL_BITRATE * 0.31, \"prio-right-fr\", 9.5),\n",
    "        process(RIGHT / \"rear_roi_1080p.yuv\", TOTAL_BITRATE * 0.075, \"prio-right-r\", 4.75),\n",
    "        process(RIGHT / \"rear_left_roi_1080p.yuv\", TOTAL_BITRATE * 0.075, \"prio-right-rl\", 4.63),\n",
    "        process(RIGHT / \"rear_right_roi_1080p.yuv\", TOTAL_BITRATE * 0.075, \"prio-right-rr\", 5.38),\n",
    "        process(LEFT / \"front_1080p.yuv\", TOTAL_BITRATE * 0.31, \"prio-left-f\", 9.25),\n",
    "        process(LEFT / \"front_left_1080p.yuv\", TOTAL_BITRATE * 0.31, \"prio-left-fl\", 9.38),\n",
    "        process(LEFT / \"front_right_1080p.yuv\", TOTAL_BITRATE * 0.155, \"prio-left-fr\", 6.13),\n",
    "        process(LEFT / \"rear_roi_1080p.yuv\", TOTAL_BITRATE * 0.075, \"prio-left-r\", 4.75),\n",
    "        process(LEFT / \"rear_left_roi_1080p.yuv\", TOTAL_BITRATE * 0.075, \"prio-left-rl\", 5.38),\n",
    "        process(LEFT / \"rear_right_roi_1080p.yuv\", TOTAL_BITRATE * 0.075, \"prio-left-rr\", 4.88),\n",
    "        process(STRAIGHT / \"front_1080p.yuv\", TOTAL_BITRATE * 0.31, \"prio-straight-f\", 10.0),\n",
    "        process(STRAIGHT / \"front_left_1080p.yuv\", TOTAL_BITRATE * 0.31, \"prio-straight-fl\", 6.88),\n",
    "        process(STRAIGHT / \"front_right_1080p.yuv\", TOTAL_BITRATE * 0.155, \"prio-straight-fr\", 7.50),\n",
    "        process(STRAIGHT / \"rear_roi_1080p.yuv\", TOTAL_BITRATE * 0.075, \"prio-straight-r\", 5.00),\n",
    "        process(STRAIGHT / \"rear_left_roi_1080p.yuv\", TOTAL_BITRATE * 0.075, \"prio-straight-rl\", 4.88),\n",
    "        process(STRAIGHT / \"rear_right_roi_1080p.yuv\", TOTAL_BITRATE * 0.075, \"prio-straight-rr\", 4.38),\n",
    "    ]\n",
    ")"
   ]
  },
  {
   "cell_type": "code",
   "execution_count": null,
   "metadata": {},
   "outputs": [],
   "source": [
    "df_uniform.to_csv(BASE_PATH / \"uniform.csv\")\n",
    "df_prio.to_csv(BASE_PATH / \"prio.csv\")"
   ]
  },
  {
   "cell_type": "code",
   "execution_count": null,
   "metadata": {},
   "outputs": [],
   "source": [
    "df_uniform = pd.read_csv(BASE_PATH / \"uniform.csv\")\n",
    "df_prio = pd.read_csv(BASE_PATH / \"prio.csv\")"
   ]
  },
  {
   "cell_type": "code",
   "execution_count": null,
   "metadata": {},
   "outputs": [],
   "source": [
    "uniform_vmaf = np.mean(df_uniform.prio * df_uniform.vmaf * 0.1)\n",
    "uniform_psnr = np.mean(df_uniform.prio * df_uniform.psnr * 0.1)\n",
    "\n",
    "prio_vmaf = np.mean(df_prio.prio * df_prio.vmaf * 0.1)\n",
    "prio_psnr = np.mean(df_prio.prio * df_prio.psnr * 0.1)"
   ]
  }
 ],
 "metadata": {
  "interpreter": {
   "hash": "993da4d878b10cf7bc9bf66f9c4d324bac4fd12c76b81d5779890ccea11feeaa"
  },
  "kernelspec": {
   "display_name": "Python 3.8.10 64-bit ('venv': venv)",
   "name": "python3"
  },
  "language_info": {
   "codemirror_mode": {
    "name": "ipython",
    "version": 3
   },
   "file_extension": ".py",
   "mimetype": "text/x-python",
   "name": "python",
   "nbconvert_exporter": "python",
   "pygments_lexer": "ipython3",
   "version": "3.8.10"
  },
  "orig_nbformat": 4
 },
 "nbformat": 4,
 "nbformat_minor": 2
}
