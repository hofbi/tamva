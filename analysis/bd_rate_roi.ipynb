{
 "cells": [
  {
   "cell_type": "code",
   "execution_count": null,
   "metadata": {},
   "outputs": [],
   "source": [
    "%load_ext autoreload"
   ]
  },
  {
   "cell_type": "code",
   "execution_count": null,
   "metadata": {},
   "outputs": [],
   "source": [
    "%autoreload 2\n",
    "\n",
    "import sys\n",
    "from pathlib import Path\n",
    "import pandas as pd\n",
    "import matplotlib.pyplot as plt\n",
    "import tikzplotlib\n",
    "\n",
    "try:\n",
    "    sys.path.append(str(Path().cwd().parent))\n",
    "except IndexError:\n",
    "    pass\n",
    "\n",
    "from external.bjontegaard_metrics.bj_delta import *"
   ]
  },
  {
   "cell_type": "code",
   "execution_count": null,
   "metadata": {},
   "outputs": [],
   "source": [
    "BASE_PATH = Path.cwd() / \"bd-roi\"\n",
    "GOP = 1\n",
    "\n",
    "all_files = list(BASE_PATH.glob(\"*.csv\"))\n",
    "\n",
    "df = pd.concat([pd.read_csv(data_file, index_col=\"name\") for data_file in all_files])"
   ]
  },
  {
   "cell_type": "code",
   "execution_count": null,
   "metadata": {},
   "outputs": [],
   "source": [
    "gop = df.loc[df.gop_len == GOP]\n",
    "\n",
    "base = gop.loc[gop[\"mode\"].str.contains(\"base\")]\n",
    "cont = gop.loc[gop[\"mode\"].str.contains(\"roi_cont\")]\n",
    "block = gop.loc[gop[\"mode\"].str.contains(\"roi-\")]\n",
    "\n",
    "base_per_qp = base.groupby([\"qp\"]).mean()\n",
    "cont_per_qp = cont.groupby([\"qp\"]).mean()\n",
    "block_per_qp = block.groupby([\"qp\"]).mean()"
   ]
  },
  {
   "cell_type": "code",
   "execution_count": null,
   "metadata": {},
   "outputs": [],
   "source": [
    "def print_bj_delta(df_one, df_two):\n",
    "    print(f\"BD-PSNR: {bj_delta(df_one.bitrate, df_one.psnr, df_two.bitrate, df_two.psnr, mode=0):.2f}\")\n",
    "    print(f\"BD-RATE: {bj_delta(df_one.bitrate, df_one.psnr, df_two.bitrate, df_two.psnr, mode=1):.2f}\")\n",
    "\n",
    "    print(f\"BD-VMAF: {bj_delta(df_one.bitrate, df_one.vmaf, df_two.bitrate, df_two.vmaf, mode=0):.2f}\")\n",
    "    print(f\"BD-RATE: {bj_delta(df_one.bitrate, df_one.vmaf, df_two.bitrate, df_two.vmaf, mode=1):.2f}\")\n",
    "\n",
    "def plot_rd_curve(metric: str):\n",
    "    plt.scatter(base_per_qp.bitrate, base_per_qp[metric], label=\"Baseline\")\n",
    "    plt.plot(base_per_qp.bitrate, base_per_qp[metric])\n",
    "    plt.scatter(cont_per_qp.bitrate, cont_per_qp[metric], label=\"Continuous\")\n",
    "    plt.plot(cont_per_qp.bitrate, cont_per_qp[metric])\n",
    "    plt.scatter(block_per_qp.bitrate, block_per_qp[metric], label=\"Block-based\")\n",
    "    plt.plot(block_per_qp.bitrate, block_per_qp[metric])\n",
    "    plt.xlabel(\"Bitrate\")\n",
    "    plt.ylabel(metric.upper())\n",
    "    plt.legend(loc=\"lower right\")\n",
    "    tikzplotlib.save(f\"roi_rd_{metric}_{GOP}.tex\")"
   ]
  },
  {
   "cell_type": "code",
   "execution_count": null,
   "outputs": [],
   "source": [
    "plot_rd_curve(\"psnr\")"
   ],
   "metadata": {
    "collapsed": false,
    "pycharm": {
     "name": "#%%\n"
    }
   }
  },
  {
   "cell_type": "code",
   "execution_count": null,
   "outputs": [],
   "source": [
    "plot_rd_curve(\"vmaf\")"
   ],
   "metadata": {
    "collapsed": false,
    "pycharm": {
     "name": "#%%\n"
    }
   }
  },
  {
   "cell_type": "code",
   "execution_count": null,
   "metadata": {},
   "outputs": [],
   "source": [
    "print(\"Block-based mode\")\n",
    "print_bj_delta(base, cont)\n",
    "print()\n",
    "print(\"Continuous mode\")\n",
    "print_bj_delta(base, block)"
   ]
  }
 ],
 "metadata": {
  "interpreter": {
   "hash": "993da4d878b10cf7bc9bf66f9c4d324bac4fd12c76b81d5779890ccea11feeaa"
  },
  "kernelspec": {
   "display_name": "Python 3.8.10 64-bit ('venv': venv)",
   "name": "python3"
  },
  "language_info": {
   "codemirror_mode": {
    "name": "ipython",
    "version": 3
   },
   "file_extension": ".py",
   "mimetype": "text/x-python",
   "name": "python",
   "nbconvert_exporter": "python",
   "pygments_lexer": "ipython3",
   "version": "3.8.10"
  },
  "orig_nbformat": 4
 },
 "nbformat": 4,
 "nbformat_minor": 2
}
